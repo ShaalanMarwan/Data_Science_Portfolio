{
  "nbformat": 4,
  "nbformat_minor": 0,
  "metadata": {
    "colab": {
      "provenance": [],
      "authorship_tag": "ABX9TyNuxjlF43w/Ha8FjLHF11A9"
    },
    "kernelspec": {
      "name": "python3",
      "display_name": "Python 3"
    },
    "language_info": {
      "name": "python"
    }
  },
  "cells": [
    {
      "cell_type": "markdown",
      "source": [
        "# Prepare the dataset"
      ],
      "metadata": {
        "id": "sYMyGtncgd8l"
      }
    },
    {
      "cell_type": "code",
      "execution_count": 3,
      "metadata": {
        "id": "bffAts94gcvI"
      },
      "outputs": [],
      "source": [
        "import urllib.request\n",
        "import zipfile"
      ]
    },
    {
      "cell_type": "code",
      "source": [
        "url = \"https://storage.googleapis.com/download.tensorflow.org/data/horse-or-human.zip\""
      ],
      "metadata": {
        "id": "vt9lJRZphrVM"
      },
      "execution_count": 4,
      "outputs": []
    },
    {
      "cell_type": "code",
      "source": [
        "file_name = \"horse-or-human.zip\"\n",
        "training_dir = \"horse-or-human/training/\""
      ],
      "metadata": {
        "id": "MXNTq8Kxhyxy"
      },
      "execution_count": 5,
      "outputs": []
    },
    {
      "cell_type": "code",
      "source": [
        "urllib.request.urlretrieve(url,file_name)"
      ],
      "metadata": {
        "colab": {
          "base_uri": "https://localhost:8080/"
        },
        "id": "6mOgLTVri-FD",
        "outputId": "0682cdd4-e4d7-4faf-8920-eff9217a6f28"
      },
      "execution_count": 6,
      "outputs": [
        {
          "output_type": "execute_result",
          "data": {
            "text/plain": [
              "('horse-or-human.zip', <http.client.HTTPMessage at 0x7f5883d7ee20>)"
            ]
          },
          "metadata": {},
          "execution_count": 6
        }
      ]
    },
    {
      "cell_type": "code",
      "source": [
        "zip_ref = zipfile.ZipFile(file_name, 'r')\n",
        "zip_ref.extractall(training_dir)\n",
        "zip_ref.close()\n"
      ],
      "metadata": {
        "id": "kALjbXrOjG4J"
      },
      "execution_count": 7,
      "outputs": []
    },
    {
      "cell_type": "markdown",
      "source": [
        "# Processing "
      ],
      "metadata": {
        "id": "yXbwRth1k3Wf"
      }
    },
    {
      "cell_type": "code",
      "source": [
        "from tensorflow.keras.preprocessing.image import ImageDataGenerator\n",
        "import tensorflow"
      ],
      "metadata": {
        "id": "WhwFxemDk1Ze"
      },
      "execution_count": 10,
      "outputs": []
    },
    {
      "cell_type": "code",
      "source": [
        "train_datagen = ImageDataGenerator(rescale=1/255)\n",
        "train_generator = train_datagen.flow_from_directory(\n",
        "      training_dir,\n",
        "      target_size=(300, 300),\n",
        "      class_mode='binary'\n",
        ")"
      ],
      "metadata": {
        "colab": {
          "base_uri": "https://localhost:8080/"
        },
        "id": "Oeh1bHNjlNgH",
        "outputId": "6c7cc2a8-94a1-4aea-dbbb-c8d6e1596e72"
      },
      "execution_count": 11,
      "outputs": [
        {
          "output_type": "stream",
          "name": "stdout",
          "text": [
            "Found 1027 images belonging to 2 classes.\n"
          ]
        }
      ]
    },
    {
      "cell_type": "code",
      "source": [
        "model = tensorflow.keras.models.Sequential([\n",
        "      tensorflow.keras.layers.Conv2D(16, (3,3), activation='relu' ,\n",
        "                  input_shape=(300, 300, 3)),\n",
        "      tensorflow.keras.layers.MaxPooling2D(2, 2),\n",
        "      tensorflow.keras.layers.Conv2D(32, (3,3), activation='relu'),\n",
        "      tensorflow.keras.layers.MaxPooling2D(2,2),\n",
        "      tensorflow.keras.layers.Conv2D(64, (3,3), activation='relu'),\n",
        "      tensorflow.keras.layers.MaxPooling2D(2,2),\n",
        "      tensorflow.keras.layers.Conv2D(64, (3,3), activation='relu'),\n",
        "      tensorflow.keras.layers.MaxPooling2D(2,2),\n",
        "      tensorflow.keras.layers.Conv2D(64, (3,3), activation='relu'),\n",
        "      tensorflow.keras.layers.MaxPooling2D(2,2),\n",
        "      tensorflow.keras.layers.Flatten(),\n",
        "      tensorflow.keras.layers.Dense(512, activation='relu'),\n",
        "      tensorflow.keras.layers.Dense(1, activation='sigmoid')\n",
        "])"
      ],
      "metadata": {
        "id": "4oD9-kNxlXH_"
      },
      "execution_count": 12,
      "outputs": []
    },
    {
      "cell_type": "code",
      "source": [
        "model.compile(loss='binary_crossentropy',\n",
        "           optimizer=tensorflow.keras.optimizers.RMSprop(lr=0.001),\n",
        "metrics=['accuracy'])"
      ],
      "metadata": {
        "colab": {
          "base_uri": "https://localhost:8080/"
        },
        "id": "R--eIn6enHW_",
        "outputId": "37315cee-529d-474c-bb91-7c2917cd9c43"
      },
      "execution_count": 13,
      "outputs": [
        {
          "output_type": "stream",
          "name": "stderr",
          "text": [
            "/usr/local/lib/python3.8/dist-packages/keras/optimizers/optimizer_v2/rmsprop.py:135: UserWarning: The `lr` argument is deprecated, use `learning_rate` instead.\n",
            "  super(RMSprop, self).__init__(name, **kwargs)\n"
          ]
        }
      ]
    },
    {
      "cell_type": "code",
      "source": [
        "history = model.fit_generator(\n",
        "      train_generator,\n",
        "      epochs=15\n",
        ")"
      ],
      "metadata": {
        "colab": {
          "base_uri": "https://localhost:8080/"
        },
        "id": "22WOecAsogsK",
        "outputId": "fdb59dd3-64f0-4b63-dd1b-04d0a70b1cdb"
      },
      "execution_count": 14,
      "outputs": [
        {
          "output_type": "stream",
          "name": "stderr",
          "text": [
            "<ipython-input-14-b37b33aa2382>:1: UserWarning: `Model.fit_generator` is deprecated and will be removed in a future version. Please use `Model.fit`, which supports generators.\n",
            "  history = model.fit_generator(\n"
          ]
        },
        {
          "output_type": "stream",
          "name": "stdout",
          "text": [
            "Epoch 1/15\n",
            "33/33 [==============================] - 97s 3s/step - loss: 0.7063 - accuracy: 0.6826\n",
            "Epoch 2/15\n",
            "33/33 [==============================] - 97s 3s/step - loss: 0.2516 - accuracy: 0.9056\n",
            "Epoch 3/15\n",
            "33/33 [==============================] - 95s 3s/step - loss: 0.1410 - accuracy: 0.9552\n",
            "Epoch 4/15\n",
            "33/33 [==============================] - 97s 3s/step - loss: 0.1469 - accuracy: 0.9630\n",
            "Epoch 5/15\n",
            "33/33 [==============================] - 96s 3s/step - loss: 0.1090 - accuracy: 0.9776\n",
            "Epoch 6/15\n",
            "33/33 [==============================] - 94s 3s/step - loss: 0.0841 - accuracy: 0.9854\n",
            "Epoch 7/15\n",
            "33/33 [==============================] - 95s 3s/step - loss: 0.0698 - accuracy: 0.9844\n",
            "Epoch 8/15\n",
            "33/33 [==============================] - 97s 3s/step - loss: 0.0011 - accuracy: 1.0000\n",
            "Epoch 9/15\n",
            "33/33 [==============================] - 97s 3s/step - loss: 4.0567e-05 - accuracy: 1.0000\n",
            "Epoch 10/15\n",
            "33/33 [==============================] - 96s 3s/step - loss: 5.9418e-06 - accuracy: 1.0000\n",
            "Epoch 11/15\n",
            "33/33 [==============================] - 97s 3s/step - loss: 0.2041 - accuracy: 0.9766\n",
            "Epoch 12/15\n",
            "33/33 [==============================] - 96s 3s/step - loss: 0.0101 - accuracy: 0.9990\n",
            "Epoch 13/15\n",
            "33/33 [==============================] - 95s 3s/step - loss: 0.0015 - accuracy: 1.0000\n",
            "Epoch 14/15\n",
            "33/33 [==============================] - 94s 3s/step - loss: 0.1748 - accuracy: 0.9698\n",
            "Epoch 15/15\n",
            "33/33 [==============================] - 95s 3s/step - loss: 8.6583e-04 - accuracy: 1.0000\n"
          ]
        }
      ]
    },
    {
      "cell_type": "code",
      "source": [
        "validation_url = \"https://storage.googleapis.com/download.tensorflow.org/data/validation-horse-or-human.zip\"\n",
        "validation_file_name = \"validation-horse-or-human.zip\"\n",
        "validation_dir = 'horse-or-human/validation/'\n",
        "urllib.request.urlretrieve(validation_url, validation_file_name)\n",
        "zip_ref = zipfile.ZipFile(validation_file_name, 'r')\n",
        "zip_ref.extractall(validation_dir)\n",
        "zip_ref.close()"
      ],
      "metadata": {
        "id": "l2tkYJoko3Sx"
      },
      "execution_count": 8,
      "outputs": []
    },
    {
      "cell_type": "code",
      "source": [
        "validation_datagen = ImageDataGenerator(rescale=1/255)\n",
        "validation_generator = train_datagen.flow_from_directory(\n",
        "      validation_dir,\n",
        "      target_size=(300, 300),\n",
        "      class_mode='binary'\n",
        ")\n"
      ],
      "metadata": {
        "colab": {
          "base_uri": "https://localhost:8080/"
        },
        "id": "h311d7hOpMnT",
        "outputId": "396d56dc-8e2a-41ee-fb84-98c91023889f"
      },
      "execution_count": 15,
      "outputs": [
        {
          "output_type": "stream",
          "name": "stdout",
          "text": [
            "Found 256 images belonging to 2 classes.\n"
          ]
        }
      ]
    },
    {
      "cell_type": "code",
      "source": [
        "model.summary()"
      ],
      "metadata": {
        "colab": {
          "base_uri": "https://localhost:8080/"
        },
        "id": "y1dtYwgopQR9",
        "outputId": "f0aa3d0b-f65d-478f-ecc0-41d1ee843334"
      },
      "execution_count": 16,
      "outputs": [
        {
          "output_type": "stream",
          "name": "stdout",
          "text": [
            "Model: \"sequential\"\n",
            "_________________________________________________________________\n",
            " Layer (type)                Output Shape              Param #   \n",
            "=================================================================\n",
            " conv2d (Conv2D)             (None, 298, 298, 16)      448       \n",
            "                                                                 \n",
            " max_pooling2d (MaxPooling2D  (None, 149, 149, 16)     0         \n",
            " )                                                               \n",
            "                                                                 \n",
            " conv2d_1 (Conv2D)           (None, 147, 147, 32)      4640      \n",
            "                                                                 \n",
            " max_pooling2d_1 (MaxPooling  (None, 73, 73, 32)       0         \n",
            " 2D)                                                             \n",
            "                                                                 \n",
            " conv2d_2 (Conv2D)           (None, 71, 71, 64)        18496     \n",
            "                                                                 \n",
            " max_pooling2d_2 (MaxPooling  (None, 35, 35, 64)       0         \n",
            " 2D)                                                             \n",
            "                                                                 \n",
            " conv2d_3 (Conv2D)           (None, 33, 33, 64)        36928     \n",
            "                                                                 \n",
            " max_pooling2d_3 (MaxPooling  (None, 16, 16, 64)       0         \n",
            " 2D)                                                             \n",
            "                                                                 \n",
            " conv2d_4 (Conv2D)           (None, 14, 14, 64)        36928     \n",
            "                                                                 \n",
            " max_pooling2d_4 (MaxPooling  (None, 7, 7, 64)         0         \n",
            " 2D)                                                             \n",
            "                                                                 \n",
            " flatten (Flatten)           (None, 3136)              0         \n",
            "                                                                 \n",
            " dense (Dense)               (None, 512)               1606144   \n",
            "                                                                 \n",
            " dense_1 (Dense)             (None, 1)                 513       \n",
            "                                                                 \n",
            "=================================================================\n",
            "Total params: 1,704,097\n",
            "Trainable params: 1,704,097\n",
            "Non-trainable params: 0\n",
            "_________________________________________________________________\n"
          ]
        }
      ]
    },
    {
      "cell_type": "code",
      "source": [],
      "metadata": {
        "id": "IB6sEWGxgWnL"
      },
      "execution_count": null,
      "outputs": []
    }
  ]
}