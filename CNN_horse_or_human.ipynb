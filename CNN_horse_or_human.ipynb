{
  "nbformat": 4,
  "nbformat_minor": 0,
  "metadata": {
    "colab": {
      "provenance": []
    },
    "kernelspec": {
      "name": "python3",
      "display_name": "Python 3"
    },
    "language_info": {
      "name": "python"
    }
  },
  "cells": [
    {
      "cell_type": "markdown",
      "source": [
        "# Prepare the dataset"
      ],
      "metadata": {
        "id": "sYMyGtncgd8l"
      }
    },
    {
      "cell_type": "code",
      "execution_count": null,
      "metadata": {
        "id": "bffAts94gcvI"
      },
      "outputs": [],
      "source": [
        "import urllib.request\n",
        "import zipfile"
      ]
    },
    {
      "cell_type": "code",
      "source": [
        "url = \"https://storage.googleapis.com/download.tensorflow.org/data/horse-or-human.zip\""
      ],
      "metadata": {
        "id": "vt9lJRZphrVM"
      },
      "execution_count": null,
      "outputs": []
    },
    {
      "cell_type": "code",
      "source": [
        "file_name = \"horse-or-human.zip\"\n",
        "training_dir = \"horse-or-human/training/\""
      ],
      "metadata": {
        "id": "MXNTq8Kxhyxy"
      },
      "execution_count": null,
      "outputs": []
    },
    {
      "cell_type": "code",
      "source": [
        "urllib.request.urlretrieve(url,file_name)"
      ],
      "metadata": {
        "colab": {
          "base_uri": "https://localhost:8080/"
        },
        "id": "6mOgLTVri-FD",
        "outputId": "78e9b468-65bf-432b-8526-98269b11bbd4"
      },
      "execution_count": null,
      "outputs": [
        {
          "output_type": "execute_result",
          "data": {
            "text/plain": [
              "('horse-or-human.zip', <http.client.HTTPMessage at 0x7f2e15e63d30>)"
            ]
          },
          "metadata": {},
          "execution_count": 4
        }
      ]
    },
    {
      "cell_type": "code",
      "source": [
        "zip_ref = zipfile.ZipFile(file_name, 'r')\n",
        "zip_ref.extractall(training_dir)\n",
        "zip_ref.close()\n"
      ],
      "metadata": {
        "id": "kALjbXrOjG4J"
      },
      "execution_count": null,
      "outputs": []
    },
    {
      "cell_type": "markdown",
      "source": [
        "# Processing "
      ],
      "metadata": {
        "id": "yXbwRth1k3Wf"
      }
    },
    {
      "cell_type": "code",
      "source": [
        "from tensorflow.keras.preprocessing.image import ImageDataGenerator\n",
        "import tensorflow"
      ],
      "metadata": {
        "id": "WhwFxemDk1Ze"
      },
      "execution_count": null,
      "outputs": []
    },
    {
      "cell_type": "code",
      "source": [
        "train_datagen = ImageDataGenerator(rescale=1/255)\n",
        "train_generator = train_datagen.flow_from_directory(\n",
        "      training_dir,\n",
        "      target_size=(300, 300),\n",
        "      class_mode='binary'\n",
        ")"
      ],
      "metadata": {
        "colab": {
          "base_uri": "https://localhost:8080/"
        },
        "id": "Oeh1bHNjlNgH",
        "outputId": "2cca8d34-83d9-4637-e736-247429207ec9"
      },
      "execution_count": null,
      "outputs": [
        {
          "output_type": "stream",
          "name": "stdout",
          "text": [
            "Found 1027 images belonging to 2 classes.\n"
          ]
        }
      ]
    },
    {
      "cell_type": "code",
      "source": [
        "validation_url = \"https://storage.googleapis.com/download.tensorflow.org/data/validation-horse-or-human.zip\"\n",
        "validation_file_name = \"validation-horse-or-human.zip\"\n",
        "validation_dir = 'horse-or-human/validation/'\n",
        "urllib.request.urlretrieve(validation_url, validation_file_name)\n",
        "zip_ref = zipfile.ZipFile(validation_file_name, 'r')\n",
        "zip_ref.extractall(validation_dir)\n",
        "zip_ref.close()"
      ],
      "metadata": {
        "id": "kEtlYBISFwfJ"
      },
      "execution_count": null,
      "outputs": []
    },
    {
      "cell_type": "code",
      "source": [
        "validation_datagen = ImageDataGenerator(rescale=1/255)\n",
        "validation_generator = train_datagen.flow_from_directory(\n",
        "      validation_dir,\n",
        "      target_size=(300, 300),\n",
        "      class_mode='binary'\n",
        ")\n"
      ],
      "metadata": {
        "id": "E4GaCN9DF2DY",
        "outputId": "0933e677-abc8-451a-f169-ee01031423e0",
        "colab": {
          "base_uri": "https://localhost:8080/"
        }
      },
      "execution_count": null,
      "outputs": [
        {
          "output_type": "stream",
          "name": "stdout",
          "text": [
            "Found 256 images belonging to 2 classes.\n"
          ]
        }
      ]
    },
    {
      "cell_type": "code",
      "source": [
        "model = tensorflow.keras.models.Sequential([\n",
        "      tensorflow.keras.layers.Conv2D(16, (3,3), activation='relu' ,\n",
        "                  input_shape=(300, 300, 3)),\n",
        "      tensorflow.keras.layers.MaxPooling2D(2, 2),\n",
        "      tensorflow.keras.layers.Conv2D(32, (3,3), activation='relu'),\n",
        "      tensorflow.keras.layers.MaxPooling2D(2,2),\n",
        "      tensorflow.keras.layers.Conv2D(64, (3,3), activation='relu'),\n",
        "      tensorflow.keras.layers.MaxPooling2D(2,2),\n",
        "      tensorflow.keras.layers.Conv2D(64, (3,3), activation='relu'),\n",
        "      tensorflow.keras.layers.MaxPooling2D(2,2),\n",
        "      tensorflow.keras.layers.Conv2D(64, (3,3), activation='relu'),\n",
        "      tensorflow.keras.layers.MaxPooling2D(2,2),\n",
        "      tensorflow.keras.layers.Flatten(),\n",
        "      tensorflow.keras.layers.Dense(512, activation='relu'),\n",
        "      tensorflow.keras.layers.Dense(1, activation='sigmoid')\n",
        "])"
      ],
      "metadata": {
        "id": "4oD9-kNxlXH_"
      },
      "execution_count": null,
      "outputs": []
    },
    {
      "cell_type": "code",
      "source": [
        "\n",
        "model.compile(loss='binary_crossentropy',\n",
        "           optimizer=tensorflow.keras.optimizers.RMSprop(lr=0.001),\n",
        "metrics=['accuracy'])"
      ],
      "metadata": {
        "colab": {
          "base_uri": "https://localhost:8080/"
        },
        "id": "R--eIn6enHW_",
        "outputId": "8d2fffe6-73ae-40a0-b262-06ddcf66a746"
      },
      "execution_count": null,
      "outputs": [
        {
          "output_type": "stream",
          "name": "stderr",
          "text": [
            "/usr/local/lib/python3.8/dist-packages/keras/optimizers/optimizer_v2/rmsprop.py:135: UserWarning: The `lr` argument is deprecated, use `learning_rate` instead.\n",
            "  super(RMSprop, self).__init__(name, **kwargs)\n"
          ]
        }
      ]
    },
    {
      "cell_type": "code",
      "source": [
        "history = model.fit_generator(\n",
        "      train_generator,\n",
        "      epochs=15,\n",
        "      validation_data=validation_generator,\n",
        ")"
      ],
      "metadata": {
        "colab": {
          "base_uri": "https://localhost:8080/"
        },
        "id": "22WOecAsogsK",
        "outputId": "945934c3-b5df-4804-c851-aabfc7d1b017"
      },
      "execution_count": null,
      "outputs": [
        {
          "output_type": "stream",
          "name": "stderr",
          "text": [
            "<ipython-input-12-018d7e006abf>:1: UserWarning: `Model.fit_generator` is deprecated and will be removed in a future version. Please use `Model.fit`, which supports generators.\n",
            "  history = model.fit_generator(\n"
          ]
        },
        {
          "output_type": "stream",
          "name": "stdout",
          "text": [
            "Epoch 1/15\n",
            "33/33 [==============================] - 77s 2s/step - loss: 0.6974 - accuracy: 0.6719 - val_loss: 1.7163 - val_accuracy: 0.7812\n",
            "Epoch 2/15\n",
            "33/33 [==============================] - 73s 2s/step - loss: 0.2696 - accuracy: 0.8890 - val_loss: 1.5867 - val_accuracy: 0.6719\n",
            "Epoch 3/15\n",
            "33/33 [==============================] - 72s 2s/step - loss: 0.1986 - accuracy: 0.9231 - val_loss: 1.4369 - val_accuracy: 0.7969\n",
            "Epoch 4/15\n",
            "33/33 [==============================] - 72s 2s/step - loss: 0.1020 - accuracy: 0.9688 - val_loss: 2.5961 - val_accuracy: 0.7539\n",
            "Epoch 5/15\n",
            "33/33 [==============================] - 72s 2s/step - loss: 0.0688 - accuracy: 0.9737 - val_loss: 2.7181 - val_accuracy: 0.7852\n",
            "Epoch 6/15\n",
            "33/33 [==============================] - 72s 2s/step - loss: 0.1623 - accuracy: 0.9620 - val_loss: 2.0004 - val_accuracy: 0.7461\n",
            "Epoch 7/15\n",
            "33/33 [==============================] - 72s 2s/step - loss: 0.0559 - accuracy: 0.9844 - val_loss: 2.0630 - val_accuracy: 0.7773\n",
            "Epoch 8/15\n",
            "33/33 [==============================] - 72s 2s/step - loss: 0.0637 - accuracy: 0.9883 - val_loss: 1.8665 - val_accuracy: 0.8320\n",
            "Epoch 9/15\n",
            "33/33 [==============================] - 72s 2s/step - loss: 0.1446 - accuracy: 0.9786 - val_loss: 1.8993 - val_accuracy: 0.7773\n",
            "Epoch 10/15\n",
            "33/33 [==============================] - 72s 2s/step - loss: 0.0074 - accuracy: 0.9990 - val_loss: 1.7197 - val_accuracy: 0.8633\n",
            "Epoch 11/15\n",
            "33/33 [==============================] - 72s 2s/step - loss: 0.1453 - accuracy: 0.9815 - val_loss: 2.5542 - val_accuracy: 0.8125\n",
            "Epoch 12/15\n",
            "33/33 [==============================] - 71s 2s/step - loss: 0.0489 - accuracy: 0.9912 - val_loss: 27.1633 - val_accuracy: 0.5781\n",
            "Epoch 13/15\n",
            "33/33 [==============================] - 72s 2s/step - loss: 0.1204 - accuracy: 0.9864 - val_loss: 3.2540 - val_accuracy: 0.8320\n",
            "Epoch 14/15\n",
            "33/33 [==============================] - 71s 2s/step - loss: 3.5878e-04 - accuracy: 1.0000 - val_loss: 3.3695 - val_accuracy: 0.8320\n",
            "Epoch 15/15\n",
            "33/33 [==============================] - 71s 2s/step - loss: 6.1462e-05 - accuracy: 1.0000 - val_loss: 3.0816 - val_accuracy: 0.8477\n"
          ]
        }
      ]
    },
    {
      "cell_type": "code",
      "source": [
        "model.summary()"
      ],
      "metadata": {
        "colab": {
          "base_uri": "https://localhost:8080/"
        },
        "id": "y1dtYwgopQR9",
        "outputId": "5bfe192f-b280-4774-e95d-dc7018642fd3"
      },
      "execution_count": null,
      "outputs": [
        {
          "output_type": "stream",
          "name": "stdout",
          "text": [
            "Model: \"sequential\"\n",
            "_________________________________________________________________\n",
            " Layer (type)                Output Shape              Param #   \n",
            "=================================================================\n",
            " conv2d (Conv2D)             (None, 298, 298, 16)      448       \n",
            "                                                                 \n",
            " max_pooling2d (MaxPooling2D  (None, 149, 149, 16)     0         \n",
            " )                                                               \n",
            "                                                                 \n",
            " conv2d_1 (Conv2D)           (None, 147, 147, 32)      4640      \n",
            "                                                                 \n",
            " max_pooling2d_1 (MaxPooling  (None, 73, 73, 32)       0         \n",
            " 2D)                                                             \n",
            "                                                                 \n",
            " conv2d_2 (Conv2D)           (None, 71, 71, 64)        18496     \n",
            "                                                                 \n",
            " max_pooling2d_2 (MaxPooling  (None, 35, 35, 64)       0         \n",
            " 2D)                                                             \n",
            "                                                                 \n",
            " conv2d_3 (Conv2D)           (None, 33, 33, 64)        36928     \n",
            "                                                                 \n",
            " max_pooling2d_3 (MaxPooling  (None, 16, 16, 64)       0         \n",
            " 2D)                                                             \n",
            "                                                                 \n",
            " conv2d_4 (Conv2D)           (None, 14, 14, 64)        36928     \n",
            "                                                                 \n",
            " max_pooling2d_4 (MaxPooling  (None, 7, 7, 64)         0         \n",
            " 2D)                                                             \n",
            "                                                                 \n",
            " flatten (Flatten)           (None, 3136)              0         \n",
            "                                                                 \n",
            " dense (Dense)               (None, 512)               1606144   \n",
            "                                                                 \n",
            " dense_1 (Dense)             (None, 1)                 513       \n",
            "                                                                 \n",
            "=================================================================\n",
            "Total params: 1,704,097\n",
            "Trainable params: 1,704,097\n",
            "Non-trainable params: 0\n",
            "_________________________________________________________________\n"
          ]
        }
      ]
    },
    {
      "cell_type": "markdown",
      "source": [
        "### Testing Horse or Human"
      ],
      "metadata": {
        "id": "s1HPIeDGDJMp"
      }
    },
    {
      "cell_type": "code",
      "source": [
        "import numpy\n",
        "from google.colab import files\n",
        "from keras.preprocessing import image \n",
        "from tensorflow.keras.utils import load_img , img_to_array"
      ],
      "metadata": {
        "id": "hz9TcLbeSudo"
      },
      "execution_count": null,
      "outputs": []
    },
    {
      "cell_type": "code",
      "source": [
        "from keras.utils.image_dataset import image_utils\n",
        "uploaded = files.upload()\n",
        "for fn in uploaded.keys():\n",
        "  # predicting images\n",
        "  path='/content/'+fn\n",
        "  img = load_img(path,target_size=(300,300))\n",
        "  x = img_to_array(img)\n",
        "  x = numpy.expand_dims(x,axis=0)\n",
        "  image_tensor = numpy.vstack([x])\n",
        "  classes = model.predict(image_tensor)\n",
        "  print(classes)\n",
        "  print(classes[0])\n",
        "  if classes[0]>0.5:\n",
        "    print(fn+ \"is a human\")\n",
        "  else:\n",
        "    print(fn+\" is a horse\")\n"
      ],
      "metadata": {
        "colab": {
          "base_uri": "https://localhost:8080/",
          "height": 252
        },
        "id": "d1Tt4jJmDPXk",
        "outputId": "291b8023-1734-4177-ae4e-c54264ef5f64"
      },
      "execution_count": 20,
      "outputs": [
        {
          "output_type": "display_data",
          "data": {
            "text/plain": [
              "<IPython.core.display.HTML object>"
            ],
            "text/html": [
              "\n",
              "     <input type=\"file\" id=\"files-7fefba95-5074-405d-b1d8-fb3d2b3f3745\" name=\"files[]\" multiple disabled\n",
              "        style=\"border:none\" />\n",
              "     <output id=\"result-7fefba95-5074-405d-b1d8-fb3d2b3f3745\">\n",
              "      Upload widget is only available when the cell has been executed in the\n",
              "      current browser session. Please rerun this cell to enable.\n",
              "      </output>\n",
              "      <script>// Copyright 2017 Google LLC\n",
              "//\n",
              "// Licensed under the Apache License, Version 2.0 (the \"License\");\n",
              "// you may not use this file except in compliance with the License.\n",
              "// You may obtain a copy of the License at\n",
              "//\n",
              "//      http://www.apache.org/licenses/LICENSE-2.0\n",
              "//\n",
              "// Unless required by applicable law or agreed to in writing, software\n",
              "// distributed under the License is distributed on an \"AS IS\" BASIS,\n",
              "// WITHOUT WARRANTIES OR CONDITIONS OF ANY KIND, either express or implied.\n",
              "// See the License for the specific language governing permissions and\n",
              "// limitations under the License.\n",
              "\n",
              "/**\n",
              " * @fileoverview Helpers for google.colab Python module.\n",
              " */\n",
              "(function(scope) {\n",
              "function span(text, styleAttributes = {}) {\n",
              "  const element = document.createElement('span');\n",
              "  element.textContent = text;\n",
              "  for (const key of Object.keys(styleAttributes)) {\n",
              "    element.style[key] = styleAttributes[key];\n",
              "  }\n",
              "  return element;\n",
              "}\n",
              "\n",
              "// Max number of bytes which will be uploaded at a time.\n",
              "const MAX_PAYLOAD_SIZE = 100 * 1024;\n",
              "\n",
              "function _uploadFiles(inputId, outputId) {\n",
              "  const steps = uploadFilesStep(inputId, outputId);\n",
              "  const outputElement = document.getElementById(outputId);\n",
              "  // Cache steps on the outputElement to make it available for the next call\n",
              "  // to uploadFilesContinue from Python.\n",
              "  outputElement.steps = steps;\n",
              "\n",
              "  return _uploadFilesContinue(outputId);\n",
              "}\n",
              "\n",
              "// This is roughly an async generator (not supported in the browser yet),\n",
              "// where there are multiple asynchronous steps and the Python side is going\n",
              "// to poll for completion of each step.\n",
              "// This uses a Promise to block the python side on completion of each step,\n",
              "// then passes the result of the previous step as the input to the next step.\n",
              "function _uploadFilesContinue(outputId) {\n",
              "  const outputElement = document.getElementById(outputId);\n",
              "  const steps = outputElement.steps;\n",
              "\n",
              "  const next = steps.next(outputElement.lastPromiseValue);\n",
              "  return Promise.resolve(next.value.promise).then((value) => {\n",
              "    // Cache the last promise value to make it available to the next\n",
              "    // step of the generator.\n",
              "    outputElement.lastPromiseValue = value;\n",
              "    return next.value.response;\n",
              "  });\n",
              "}\n",
              "\n",
              "/**\n",
              " * Generator function which is called between each async step of the upload\n",
              " * process.\n",
              " * @param {string} inputId Element ID of the input file picker element.\n",
              " * @param {string} outputId Element ID of the output display.\n",
              " * @return {!Iterable<!Object>} Iterable of next steps.\n",
              " */\n",
              "function* uploadFilesStep(inputId, outputId) {\n",
              "  const inputElement = document.getElementById(inputId);\n",
              "  inputElement.disabled = false;\n",
              "\n",
              "  const outputElement = document.getElementById(outputId);\n",
              "  outputElement.innerHTML = '';\n",
              "\n",
              "  const pickedPromise = new Promise((resolve) => {\n",
              "    inputElement.addEventListener('change', (e) => {\n",
              "      resolve(e.target.files);\n",
              "    });\n",
              "  });\n",
              "\n",
              "  const cancel = document.createElement('button');\n",
              "  inputElement.parentElement.appendChild(cancel);\n",
              "  cancel.textContent = 'Cancel upload';\n",
              "  const cancelPromise = new Promise((resolve) => {\n",
              "    cancel.onclick = () => {\n",
              "      resolve(null);\n",
              "    };\n",
              "  });\n",
              "\n",
              "  // Wait for the user to pick the files.\n",
              "  const files = yield {\n",
              "    promise: Promise.race([pickedPromise, cancelPromise]),\n",
              "    response: {\n",
              "      action: 'starting',\n",
              "    }\n",
              "  };\n",
              "\n",
              "  cancel.remove();\n",
              "\n",
              "  // Disable the input element since further picks are not allowed.\n",
              "  inputElement.disabled = true;\n",
              "\n",
              "  if (!files) {\n",
              "    return {\n",
              "      response: {\n",
              "        action: 'complete',\n",
              "      }\n",
              "    };\n",
              "  }\n",
              "\n",
              "  for (const file of files) {\n",
              "    const li = document.createElement('li');\n",
              "    li.append(span(file.name, {fontWeight: 'bold'}));\n",
              "    li.append(span(\n",
              "        `(${file.type || 'n/a'}) - ${file.size} bytes, ` +\n",
              "        `last modified: ${\n",
              "            file.lastModifiedDate ? file.lastModifiedDate.toLocaleDateString() :\n",
              "                                    'n/a'} - `));\n",
              "    const percent = span('0% done');\n",
              "    li.appendChild(percent);\n",
              "\n",
              "    outputElement.appendChild(li);\n",
              "\n",
              "    const fileDataPromise = new Promise((resolve) => {\n",
              "      const reader = new FileReader();\n",
              "      reader.onload = (e) => {\n",
              "        resolve(e.target.result);\n",
              "      };\n",
              "      reader.readAsArrayBuffer(file);\n",
              "    });\n",
              "    // Wait for the data to be ready.\n",
              "    let fileData = yield {\n",
              "      promise: fileDataPromise,\n",
              "      response: {\n",
              "        action: 'continue',\n",
              "      }\n",
              "    };\n",
              "\n",
              "    // Use a chunked sending to avoid message size limits. See b/62115660.\n",
              "    let position = 0;\n",
              "    do {\n",
              "      const length = Math.min(fileData.byteLength - position, MAX_PAYLOAD_SIZE);\n",
              "      const chunk = new Uint8Array(fileData, position, length);\n",
              "      position += length;\n",
              "\n",
              "      const base64 = btoa(String.fromCharCode.apply(null, chunk));\n",
              "      yield {\n",
              "        response: {\n",
              "          action: 'append',\n",
              "          file: file.name,\n",
              "          data: base64,\n",
              "        },\n",
              "      };\n",
              "\n",
              "      let percentDone = fileData.byteLength === 0 ?\n",
              "          100 :\n",
              "          Math.round((position / fileData.byteLength) * 100);\n",
              "      percent.textContent = `${percentDone}% done`;\n",
              "\n",
              "    } while (position < fileData.byteLength);\n",
              "  }\n",
              "\n",
              "  // All done.\n",
              "  yield {\n",
              "    response: {\n",
              "      action: 'complete',\n",
              "    }\n",
              "  };\n",
              "}\n",
              "\n",
              "scope.google = scope.google || {};\n",
              "scope.google.colab = scope.google.colab || {};\n",
              "scope.google.colab._files = {\n",
              "  _uploadFiles,\n",
              "  _uploadFilesContinue,\n",
              "};\n",
              "})(self);\n",
              "</script> "
            ]
          },
          "metadata": {}
        },
        {
          "output_type": "stream",
          "name": "stdout",
          "text": [
            "Saving horse-2063672__340.jpg to horse-2063672__340.jpg\n",
            "Saving woman-pic.webp to woman-pic.webp\n",
            "1/1 [==============================] - 0s 40ms/step\n",
            "[[0.]]\n",
            "[0.]\n",
            "horse-2063672__340.jpg is a horse\n",
            "1/1 [==============================] - 0s 37ms/step\n",
            "[[1.]]\n",
            "[1.]\n",
            "woman-pic.webpis a human\n"
          ]
        }
      ]
    },
    {
      "cell_type": "code",
      "source": [],
      "metadata": {
        "id": "2ZKtZSKVDb21"
      },
      "execution_count": null,
      "outputs": []
    }
  ]
}