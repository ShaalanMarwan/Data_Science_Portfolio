{
  "nbformat": 4,
  "nbformat_minor": 0,
  "metadata": {
    "colab": {
      "provenance": [],
      "authorship_tag": "ABX9TyMDP+cMG2+ceW0FHDCeTt3v"
    },
    "kernelspec": {
      "name": "python3",
      "display_name": "Python 3"
    },
    "language_info": {
      "name": "python"
    }
  },
  "cells": [
    {
      "cell_type": "markdown",
      "source": [
        "## CNN to classify images \n"
      ],
      "metadata": {
        "id": "qq7BnYmGs_-e"
      }
    },
    {
      "cell_type": "code",
      "execution_count": null,
      "metadata": {
        "id": "SGyyq0Grs0OD"
      },
      "outputs": [],
      "source": [
        "import tensorflow\n",
        "from tensorflow.keras import Sequential\n",
        "from tensorflow.keras.datasets import fashion_mnist\n",
        "from tensorflow.keras.layers import Conv2D, Dense, Flatten, MaxPooling2D"
      ]
    },
    {
      "cell_type": "code",
      "source": [
        "dataset = fashion_mnist"
      ],
      "metadata": {
        "id": "yXWscrf4x3Y9"
      },
      "execution_count": null,
      "outputs": []
    },
    {
      "cell_type": "code",
      "source": [
        "(training_images, training_labels),(test_images,test_labels)=dataset.load_data()"
      ],
      "metadata": {
        "id": "wXoQE-Nxx_EN"
      },
      "execution_count": null,
      "outputs": []
    },
    {
      "cell_type": "code",
      "source": [
        "training_images = training_images.reshape(60000, 28, 28, 1)\n",
        "training_images = training_images / 255.0\n",
        "test_images = test_images.reshape(10000, 28, 28, 1)\n",
        "test_images = test_images / 255.0\n"
      ],
      "metadata": {
        "id": "V6geVa3PygEN"
      },
      "execution_count": null,
      "outputs": []
    },
    {
      "cell_type": "code",
      "source": [
        "model = Sequential([\n",
        "        Conv2D(64, (3, 3), activation=\"relu\", input_shape=(28, 28, 1)),\n",
        "        MaxPooling2D(2, 2),\n",
        "        Conv2D(64, (3, 3), activation=\"relu\"),\n",
        "        MaxPooling2D(2, 2),\n",
        "        Flatten(),\n",
        "        Dense(128, activation=tensorflow.nn.relu),\n",
        "        Dense(10, activation=tensorflow.nn.softmax),\n",
        "    ])\n",
        "\n",
        "\n"
      ],
      "metadata": {
        "id": "zRHeTpU5zQqD"
      },
      "execution_count": null,
      "outputs": []
    },
    {
      "cell_type": "code",
      "source": [
        "model.compile(\n",
        "        loss=\"sparse_categorical_crossentropy\",\n",
        "        metrics=[\"accuracy\"],\n",
        "        optimizer=\"adam\",\n",
        "    )"
      ],
      "metadata": {
        "id": "ncnx7jxK0Y65"
      },
      "execution_count": null,
      "outputs": []
    },
    {
      "cell_type": "code",
      "source": [
        "model.fit(\n",
        "        training_images,\n",
        "        training_labels,\n",
        "        epochs=50,\n",
        "    )"
      ],
      "metadata": {
        "colab": {
          "base_uri": "https://localhost:8080/"
        },
        "id": "HKIQweju0uts",
        "outputId": "70f7c2c5-b357-4d93-9467-7d4fffa92022"
      },
      "execution_count": 24,
      "outputs": [
        {
          "output_type": "stream",
          "name": "stdout",
          "text": [
            "Epoch 1/50\n",
            "1875/1875 [==============================] - 91s 48ms/step - loss: 0.9449 - accuracy: 0.6525\n",
            "Epoch 2/50\n",
            "1875/1875 [==============================] - 88s 47ms/step - loss: 0.6479 - accuracy: 0.7552\n",
            "Epoch 3/50\n",
            "1875/1875 [==============================] - 88s 47ms/step - loss: 0.5789 - accuracy: 0.7810\n",
            "Epoch 4/50\n",
            "1875/1875 [==============================] - 89s 48ms/step - loss: 0.5258 - accuracy: 0.8012\n",
            "Epoch 5/50\n",
            "1875/1875 [==============================] - 89s 47ms/step - loss: 0.4913 - accuracy: 0.8172\n",
            "Epoch 6/50\n",
            "1875/1875 [==============================] - 89s 47ms/step - loss: 0.4653 - accuracy: 0.8271\n",
            "Epoch 7/50\n",
            "1875/1875 [==============================] - 90s 48ms/step - loss: 0.4426 - accuracy: 0.8352\n",
            "Epoch 8/50\n",
            "1875/1875 [==============================] - 89s 47ms/step - loss: 0.4268 - accuracy: 0.8411\n",
            "Epoch 9/50\n",
            "1875/1875 [==============================] - 90s 48ms/step - loss: 0.4108 - accuracy: 0.8487\n",
            "Epoch 10/50\n",
            "1875/1875 [==============================] - 88s 47ms/step - loss: 0.3979 - accuracy: 0.8527\n",
            "Epoch 11/50\n",
            "1875/1875 [==============================] - 88s 47ms/step - loss: 0.3842 - accuracy: 0.8580\n",
            "Epoch 12/50\n",
            "1875/1875 [==============================] - 90s 48ms/step - loss: 0.3730 - accuracy: 0.8622\n",
            "Epoch 13/50\n",
            "1875/1875 [==============================] - 88s 47ms/step - loss: 0.3627 - accuracy: 0.8657\n",
            "Epoch 14/50\n",
            "1875/1875 [==============================] - 89s 47ms/step - loss: 0.3516 - accuracy: 0.8694\n",
            "Epoch 15/50\n",
            "1875/1875 [==============================] - 89s 47ms/step - loss: 0.3435 - accuracy: 0.8719\n",
            "Epoch 16/50\n",
            "1875/1875 [==============================] - 87s 47ms/step - loss: 0.3339 - accuracy: 0.8766\n",
            "Epoch 17/50\n",
            "1875/1875 [==============================] - 88s 47ms/step - loss: 0.3271 - accuracy: 0.8790\n",
            "Epoch 18/50\n",
            "1875/1875 [==============================] - 89s 47ms/step - loss: 0.3199 - accuracy: 0.8818\n",
            "Epoch 19/50\n",
            "1875/1875 [==============================] - 88s 47ms/step - loss: 0.3123 - accuracy: 0.8842\n",
            "Epoch 20/50\n",
            "1875/1875 [==============================] - 88s 47ms/step - loss: 0.3075 - accuracy: 0.8856\n",
            "Epoch 21/50\n",
            "1875/1875 [==============================] - 90s 48ms/step - loss: 0.3011 - accuracy: 0.8878\n",
            "Epoch 22/50\n",
            "1875/1875 [==============================] - 88s 47ms/step - loss: 0.2967 - accuracy: 0.8888\n",
            "Epoch 23/50\n",
            "1875/1875 [==============================] - 88s 47ms/step - loss: 0.2916 - accuracy: 0.8907\n",
            "Epoch 24/50\n",
            "1875/1875 [==============================] - 89s 47ms/step - loss: 0.2859 - accuracy: 0.8938\n",
            "Epoch 25/50\n",
            "1875/1875 [==============================] - 87s 47ms/step - loss: 0.2832 - accuracy: 0.8947\n",
            "Epoch 26/50\n",
            "1875/1875 [==============================] - 89s 48ms/step - loss: 0.2777 - accuracy: 0.8959\n",
            "Epoch 27/50\n",
            "1875/1875 [==============================] - 89s 47ms/step - loss: 0.2747 - accuracy: 0.8979\n",
            "Epoch 28/50\n",
            "1875/1875 [==============================] - 88s 47ms/step - loss: 0.2706 - accuracy: 0.8993\n",
            "Epoch 29/50\n",
            "1875/1875 [==============================] - 89s 48ms/step - loss: 0.2679 - accuracy: 0.9004\n",
            "Epoch 30/50\n",
            "1875/1875 [==============================] - 89s 47ms/step - loss: 0.2646 - accuracy: 0.9010\n",
            "Epoch 31/50\n",
            "1875/1875 [==============================] - 89s 47ms/step - loss: 0.2619 - accuracy: 0.9018\n",
            "Epoch 32/50\n",
            "1875/1875 [==============================] - 90s 48ms/step - loss: 0.2579 - accuracy: 0.9034\n",
            "Epoch 33/50\n",
            "1875/1875 [==============================] - 89s 47ms/step - loss: 0.2559 - accuracy: 0.9050\n",
            "Epoch 34/50\n",
            "1875/1875 [==============================] - 89s 48ms/step - loss: 0.2520 - accuracy: 0.9059\n",
            "Epoch 35/50\n",
            "1875/1875 [==============================] - 87s 47ms/step - loss: 0.2501 - accuracy: 0.9066\n",
            "Epoch 36/50\n",
            "1875/1875 [==============================] - 88s 47ms/step - loss: 0.2478 - accuracy: 0.9081\n",
            "Epoch 37/50\n",
            "1875/1875 [==============================] - 90s 48ms/step - loss: 0.2446 - accuracy: 0.9096\n",
            "Epoch 38/50\n",
            "1875/1875 [==============================] - 87s 47ms/step - loss: 0.2421 - accuracy: 0.9100\n",
            "Epoch 39/50\n",
            "1875/1875 [==============================] - 89s 48ms/step - loss: 0.2403 - accuracy: 0.9094\n",
            "Epoch 40/50\n",
            "1875/1875 [==============================] - 90s 48ms/step - loss: 0.2370 - accuracy: 0.9122\n",
            "Epoch 41/50\n",
            "1875/1875 [==============================] - 87s 46ms/step - loss: 0.2345 - accuracy: 0.9121\n",
            "Epoch 42/50\n",
            "1875/1875 [==============================] - 92s 49ms/step - loss: 0.2321 - accuracy: 0.9123\n",
            "Epoch 43/50\n",
            "1875/1875 [==============================] - 89s 47ms/step - loss: 0.2309 - accuracy: 0.9123\n",
            "Epoch 44/50\n",
            "1875/1875 [==============================] - 90s 48ms/step - loss: 0.2289 - accuracy: 0.9137\n",
            "Epoch 45/50\n",
            "1875/1875 [==============================] - 91s 48ms/step - loss: 0.2270 - accuracy: 0.9152\n",
            "Epoch 46/50\n",
            "1875/1875 [==============================] - 90s 48ms/step - loss: 0.2242 - accuracy: 0.9163\n",
            "Epoch 47/50\n",
            "1875/1875 [==============================] - 92s 49ms/step - loss: 0.2214 - accuracy: 0.9175\n",
            "Epoch 48/50\n",
            "1875/1875 [==============================] - 91s 48ms/step - loss: 0.2197 - accuracy: 0.9174\n",
            "Epoch 49/50\n",
            "1875/1875 [==============================] - 92s 49ms/step - loss: 0.2177 - accuracy: 0.9174\n",
            "Epoch 50/50\n",
            "1875/1875 [==============================] - 91s 49ms/step - loss: 0.2158 - accuracy: 0.9188\n"
          ]
        },
        {
          "output_type": "execute_result",
          "data": {
            "text/plain": [
              "<keras.callbacks.History at 0x7f33bf3a7250>"
            ]
          },
          "metadata": {},
          "execution_count": 24
        }
      ]
    },
    {
      "cell_type": "code",
      "source": [
        "model.evaluate(test_images, test_labels)"
      ],
      "metadata": {
        "id": "VYMAfbYZ01qR",
        "colab": {
          "base_uri": "https://localhost:8080/"
        },
        "outputId": "3d04e1da-b0e9-4e68-d163-da3bf23013fb"
      },
      "execution_count": 25,
      "outputs": [
        {
          "output_type": "stream",
          "name": "stdout",
          "text": [
            "313/313 [==============================] - 5s 16ms/step - loss: 0.3319 - accuracy: 0.8851\n"
          ]
        },
        {
          "output_type": "execute_result",
          "data": {
            "text/plain": [
              "[0.3318718373775482, 0.8851000070571899]"
            ]
          },
          "metadata": {},
          "execution_count": 25
        }
      ]
    },
    {
      "cell_type": "code",
      "source": [
        "classifications = model.predict(test_images)\n",
        "print(classifications[0])\n",
        "print(test_labels[0])"
      ],
      "metadata": {
        "id": "t6KBTzKs4u9e",
        "colab": {
          "base_uri": "https://localhost:8080/"
        },
        "outputId": "bec8c44c-bdc8-415f-a4f7-a8e826302369"
      },
      "execution_count": 26,
      "outputs": [
        {
          "output_type": "stream",
          "name": "stdout",
          "text": [
            "313/313 [==============================] - 4s 14ms/step\n",
            "[1.2661885e-08 1.2012567e-12 8.3462508e-12 2.9841705e-13 2.7084607e-10\n",
            " 1.0873717e-03 1.0440747e-11 5.3640065e-04 1.1814505e-10 9.9837625e-01]\n",
            "9\n"
          ]
        }
      ]
    },
    {
      "cell_type": "code",
      "source": [],
      "metadata": {
        "id": "peersyuBJtce"
      },
      "execution_count": null,
      "outputs": []
    }
  ]
}